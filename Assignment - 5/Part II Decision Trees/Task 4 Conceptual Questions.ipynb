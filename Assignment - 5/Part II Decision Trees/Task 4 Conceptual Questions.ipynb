{
 "cells": [
  {
   "cell_type": "markdown",
   "id": "cb8c78d5-85c0-4add-a9c6-898b47b555ea",
   "metadata": {},
   "source": [
    "## Answer briefly: \n",
    "    1. What is entropy and information gain? \n",
    "    2. Explain the difference between Gini Index and Entropy. \n",
    "    3. How can a decision tree overfit? How can this be avoided? "
   ]
  },
  {
   "cell_type": "code",
   "execution_count": null,
   "id": "08c84133-bf23-41d9-aee6-85b98dd4d4f2",
   "metadata": {},
   "outputs": [],
   "source": []
  },
  {
   "cell_type": "markdown",
   "id": "bb6d1178-c9df-4bb2-8e96-e3f169029e22",
   "metadata": {},
   "source": [
    "**Ques 1. What is entropy and information gain?**\n",
    "\n",
    "- Entropy is a measure of randomness or impurity in a dataset. It tells us how mixed the class labels are.\n",
    "- Information Gain is the reduction in entropy after splitting the data on a feature — it helps us decide which feature to split on in a decision tree.\n"
   ]
  },
  {
   "cell_type": "markdown",
   "id": "f6242acb-4842-49f1-a884-6c653cdf66ea",
   "metadata": {},
   "source": [
    "**Ques 2. Explain the difference between Gini Index and Entropy.**\n",
    "\n",
    "- Both Gini and Entropy measure impurity, but in slightly different ways.\n",
    "- Entropy uses logarithms and can be a bit more computationally expensive.\n",
    "- Gini Index is simpler and faster, and usually gives similar results.\n",
    "- In practice, they often lead to similar trees.\n"
   ]
  },
  {
   "cell_type": "code",
   "execution_count": null,
   "id": "e4a2eabd-6ed1-447f-86c6-5672b2c48a5a",
   "metadata": {},
   "outputs": [],
   "source": []
  },
  {
   "cell_type": "markdown",
   "id": "0efb9c58-36b3-4122-893a-7d655c45b928",
   "metadata": {},
   "source": [
    "**Ques 3. How can a decision tree overfit? How can this be avoided?**\n",
    "A decision tree can overfit by growing too deep and capturing noise in the training data. This can be avoided by:\n",
    "\n",
    "    - Pruning the tree (pre or post),\n",
    "    \n",
    "    - Setting a maximum depth,\n",
    "    \n",
    "    - Requiring a minimum number of samples per leaf,\n",
    "    \n",
    "    - Using ensemble methods like Random Forest."
   ]
  },
  {
   "cell_type": "code",
   "execution_count": null,
   "id": "9d60c69b-62ac-4841-aff1-caf0cd61cbbf",
   "metadata": {},
   "outputs": [],
   "source": []
  },
  {
   "cell_type": "code",
   "execution_count": null,
   "id": "792aa86e-a275-4633-b5f7-c428c692e869",
   "metadata": {},
   "outputs": [],
   "source": []
  },
  {
   "cell_type": "code",
   "execution_count": null,
   "id": "49de27f2-d2d9-48cd-873c-c23598702b45",
   "metadata": {},
   "outputs": [],
   "source": []
  },
  {
   "cell_type": "code",
   "execution_count": null,
   "id": "dc989c4b-3f2b-4ca4-b593-f15b7bf40222",
   "metadata": {},
   "outputs": [],
   "source": []
  },
  {
   "cell_type": "code",
   "execution_count": null,
   "id": "de7b8dc2-eb84-48ad-9be9-134ac9a1cd1f",
   "metadata": {},
   "outputs": [],
   "source": []
  },
  {
   "cell_type": "code",
   "execution_count": null,
   "id": "5c03a2f3-fec5-4c9d-8fcc-539dea403ee2",
   "metadata": {},
   "outputs": [],
   "source": []
  },
  {
   "cell_type": "code",
   "execution_count": null,
   "id": "bca36e91-a486-4057-bcad-14299a9a48af",
   "metadata": {},
   "outputs": [],
   "source": []
  },
  {
   "cell_type": "code",
   "execution_count": null,
   "id": "ffdd1d2e-8208-4203-a47c-b499505b75da",
   "metadata": {},
   "outputs": [],
   "source": []
  },
  {
   "cell_type": "code",
   "execution_count": null,
   "id": "4123c56f-35f7-42c7-8abe-0114649b2a2e",
   "metadata": {},
   "outputs": [],
   "source": []
  },
  {
   "cell_type": "code",
   "execution_count": null,
   "id": "f2ed8e41-445b-4eb9-b0e0-bb953219cf76",
   "metadata": {},
   "outputs": [],
   "source": []
  }
 ],
 "metadata": {
  "kernelspec": {
   "display_name": "Python 3 (ipykernel)",
   "language": "python",
   "name": "python3"
  },
  "language_info": {
   "codemirror_mode": {
    "name": "ipython",
    "version": 3
   },
   "file_extension": ".py",
   "mimetype": "text/x-python",
   "name": "python",
   "nbconvert_exporter": "python",
   "pygments_lexer": "ipython3",
   "version": "3.13.5"
  }
 },
 "nbformat": 4,
 "nbformat_minor": 5
}
