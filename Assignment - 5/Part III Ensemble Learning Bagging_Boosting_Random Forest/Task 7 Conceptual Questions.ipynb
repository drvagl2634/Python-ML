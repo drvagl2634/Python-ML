{
 "cells": [
  {
   "cell_type": "markdown",
   "id": "ff72807a-b19e-4696-892d-eec4b9246af2",
   "metadata": {},
   "source": [
    "## Answer: \n",
    "    1. What is the difference between Bagging and Boosting? \n",
    "    2. How does Random Forest reduce variance? \n",
    "    3. What is the weakness of boosting-based methods? "
   ]
  },
  {
   "cell_type": "code",
   "execution_count": null,
   "id": "0f24e13d-e96b-4c62-8356-a82848a0dd77",
   "metadata": {},
   "outputs": [],
   "source": []
  },
  {
   "cell_type": "markdown",
   "id": "728762fb-b866-4f9b-8aa8-5a2fc06c4bbc",
   "metadata": {},
   "source": [
    "**Ques 1. What is the difference between Bagging and Boosting?**\n",
    "\n",
    "- Bagging trains multiple models independently in parallel on different random subsets of the data (with replacement), and then combines their outputs, usually by voting or averaging.\n",
    "Boosting, on the other hand, trains models sequentially, where each new model tries to fix the errors made by the previous ones. So, bagging reduces variance, while boosting focuses more on reducing bias.\n"
   ]
  },
  {
   "cell_type": "code",
   "execution_count": null,
   "id": "0ecb607b-1db4-4539-988a-e5b38bdcc2d1",
   "metadata": {},
   "outputs": [],
   "source": []
  },
  {
   "cell_type": "markdown",
   "id": "76b095b7-c652-4dbb-abf3-401b9eee77d8",
   "metadata": {},
   "source": [
    "**Ques 2. How does Random Forest reduce variance?**\n",
    "\n",
    "- Random Forest is basically a collection of decision trees trained on different random subsets of the data and features. By averaging the predictions of many uncorrelated trees, it cancels out the noise and overfitting that a single decision tree might have — which helps reduce variance and improves generalization.\n"
   ]
  },
  {
   "cell_type": "code",
   "execution_count": null,
   "id": "d941c924-0b31-48dc-9ea2-051fea0087c1",
   "metadata": {},
   "outputs": [],
   "source": []
  },
  {
   "cell_type": "markdown",
   "id": "53f66ea2-e637-4dd9-9f4b-25ead283609c",
   "metadata": {},
   "source": [
    "**Ques 3. What is the weakness of boosting-based methods?**\n",
    "\n",
    "- Boosting can be sensitive to noisy data and outliers, since it tries hard to correct previous mistakes — which sometimes includes fitting to noise. Also, it’s generally more computationally expensive and harder to parallelize compared to bagging methods like Random Forest."
   ]
  },
  {
   "cell_type": "code",
   "execution_count": null,
   "id": "624b7705-b066-4fb2-a3c3-7dd22adf0341",
   "metadata": {},
   "outputs": [],
   "source": []
  },
  {
   "cell_type": "code",
   "execution_count": null,
   "id": "324d1d1c-f246-4b49-b3b4-8385fbac20c5",
   "metadata": {},
   "outputs": [],
   "source": []
  },
  {
   "cell_type": "code",
   "execution_count": null,
   "id": "d219f230-f93a-4a78-8ed8-4482f9e09571",
   "metadata": {},
   "outputs": [],
   "source": []
  },
  {
   "cell_type": "code",
   "execution_count": null,
   "id": "777483ff-9e19-498f-87ae-9af9d0984f63",
   "metadata": {},
   "outputs": [],
   "source": []
  },
  {
   "cell_type": "code",
   "execution_count": null,
   "id": "d65e3284-712a-41b8-bb9d-261dbb201677",
   "metadata": {},
   "outputs": [],
   "source": []
  },
  {
   "cell_type": "code",
   "execution_count": null,
   "id": "66a1af74-cb7e-456c-9cb3-0d5dc3c8a5a2",
   "metadata": {},
   "outputs": [],
   "source": []
  },
  {
   "cell_type": "code",
   "execution_count": null,
   "id": "c00c6327-ddf7-4f74-a7bd-b8b900f1fe9e",
   "metadata": {},
   "outputs": [],
   "source": []
  },
  {
   "cell_type": "code",
   "execution_count": null,
   "id": "6834ac9a-86fd-4c83-81ee-2799f35798ff",
   "metadata": {},
   "outputs": [],
   "source": []
  },
  {
   "cell_type": "code",
   "execution_count": null,
   "id": "b705b7c5-4229-49d2-9f7c-fe619662b92d",
   "metadata": {},
   "outputs": [],
   "source": []
  }
 ],
 "metadata": {
  "kernelspec": {
   "display_name": "Python 3 (ipykernel)",
   "language": "python",
   "name": "python3"
  },
  "language_info": {
   "codemirror_mode": {
    "name": "ipython",
    "version": 3
   },
   "file_extension": ".py",
   "mimetype": "text/x-python",
   "name": "python",
   "nbconvert_exporter": "python",
   "pygments_lexer": "ipython3",
   "version": "3.13.5"
  }
 },
 "nbformat": 4,
 "nbformat_minor": 5
}
