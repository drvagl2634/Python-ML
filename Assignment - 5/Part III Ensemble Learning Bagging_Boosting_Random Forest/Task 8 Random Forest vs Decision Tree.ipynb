{
 "cells": [
  {
   "cell_type": "markdown",
   "id": "2fd72abe-bb99-4ae7-bbab-debc96c78118",
   "metadata": {},
   "source": [
    "## Task 8: Random Forest vs Decision Tree \n",
    "- Train a RandomForestClassifier on the same dataset used for Task 5. \n",
    "- Compare accuracy, precision, and recall with the standalone decision tree. \n",
    "- Plot feature importances."
   ]
  },
  {
   "cell_type": "code",
   "execution_count": 1,
   "id": "f4714490-099d-47a6-b3c0-1f16a05c62c1",
   "metadata": {},
   "outputs": [],
   "source": [
    "import pandas as pd\n",
    "import seaborn as sns\n",
    "from sklearn.model_selection import train_test_split\n",
    "from sklearn.ensemble import RandomForestClassifier\n",
    "from sklearn.tree import DecisionTreeClassifier\n",
    "from sklearn.metrics import accuracy_score, precision_score, recall_score\n",
    "import matplotlib.pyplot as plt"
   ]
  },
  {
   "cell_type": "code",
   "execution_count": 2,
   "id": "97840cb6-666f-4286-a472-5944d86ee6af",
   "metadata": {},
   "outputs": [],
   "source": [
    "df = sns.load_dataset(\"titanic\")\n",
    "df = df.dropna(subset=[\"age\", \"embarked\", \"sex\", \"fare\", \"survived\"])"
   ]
  },
  {
   "cell_type": "code",
   "execution_count": 3,
   "id": "7bcfb35b-721a-4d9f-ad33-815906aab8af",
   "metadata": {},
   "outputs": [],
   "source": [
    "df[\"sex\"] = df[\"sex\"].map({\"male\": 0, \"female\": 1})\n",
    "df[\"embarked\"] = df[\"embarked\"].map({\"S\": 0, \"C\": 1, \"Q\": 2})\n",
    "\n",
    "X = df[[\"pclass\", \"sex\", \"age\", \"fare\", \"embarked\"]]\n",
    "y = df[\"survived\"]\n"
   ]
  },
  {
   "cell_type": "code",
   "execution_count": 4,
   "id": "cf5cc023-7004-48f7-b91f-8a52b018f0ce",
   "metadata": {},
   "outputs": [],
   "source": [
    "X_train, X_test, y_train, y_test = train_test_split(X, y, test_size=0.2, random_state=42)"
   ]
  },
  {
   "cell_type": "code",
   "execution_count": 5,
   "id": "c4e518ce-ce95-4d92-91b9-91bcf04e7385",
   "metadata": {},
   "outputs": [],
   "source": [
    "# Train Decision Tree\n",
    "dt = DecisionTreeClassifier(max_depth=4, random_state=42)\n",
    "dt.fit(X_train, y_train)\n",
    "y_pred_dt = dt.predict(X_test)\n"
   ]
  },
  {
   "cell_type": "code",
   "execution_count": null,
   "id": "388cfb13-ac01-41ae-8f7c-150236624d3c",
   "metadata": {},
   "outputs": [],
   "source": []
  },
  {
   "cell_type": "code",
   "execution_count": 6,
   "id": "180534b5-5050-4d28-a555-ff1ffca1cc54",
   "metadata": {},
   "outputs": [],
   "source": [
    "# Train Random Forest\n",
    "rf = RandomForestClassifier(n_estimators=100, random_state=42)\n",
    "rf.fit(X_train, y_train)\n",
    "y_pred_rf = rf.predict(X_test)"
   ]
  },
  {
   "cell_type": "code",
   "execution_count": 8,
   "id": "9cf98c95-874d-474d-8bd8-47fe0a6eb4b1",
   "metadata": {},
   "outputs": [
    {
     "name": "stdout",
     "output_type": "stream",
     "text": [
      "\n",
      "Decision Tree Performance:\n",
      "Accuracy : 0.713\n",
      "Precision: 0.677\n",
      "Recall   : 0.667\n",
      "\n",
      "Random Forest Performance:\n",
      "Accuracy : 0.776\n",
      "Precision: 0.763\n",
      "Recall   : 0.714\n"
     ]
    }
   ],
   "source": [
    "#Compare Metrics\n",
    "def evaluate_model(name, y_true, y_pred):\n",
    "    acc = accuracy_score(y_true, y_pred)\n",
    "    prec = precision_score(y_true, y_pred)\n",
    "    rec = recall_score(y_true, y_pred)\n",
    "    print(f\"\\n{name} Performance:\")\n",
    "    print(f\"Accuracy : {acc:.3f}\")\n",
    "    print(f\"Precision: {prec:.3f}\")\n",
    "    print(f\"Recall   : {rec:.3f}\")\n",
    "\n",
    "evaluate_model(\"Decision Tree\", y_test, y_pred_dt)\n",
    "evaluate_model(\"Random Forest\", y_test, y_pred_rf)"
   ]
  },
  {
   "cell_type": "code",
   "execution_count": null,
   "id": "75c2b463-310e-4236-ae31-03b3274c381d",
   "metadata": {},
   "outputs": [],
   "source": []
  },
  {
   "cell_type": "code",
   "execution_count": 10,
   "id": "af866eb4-1293-4fc3-b141-860ae548a44d",
   "metadata": {},
   "outputs": [
    {
     "data": {
      "image/png": "[encoded data removed]",
      "text/plain": [
       "<Figure size 800x600 with 1 Axes>"
      ]
     },
     "metadata": {},
     "output_type": "display_data"
    }
   ],
   "source": [
    "importances = rf.feature_importances_\n",
    "features = X.columns\n",
    "\n",
    "plt.figure(figsize=(8, 6))\n",
    "plt.barh(features, importances, color='red')\n",
    "plt.xlabel(\"Importance Score\")\n",
    "plt.title(\"Feature Importances (Random Forest)\")\n",
    "plt.grid(True)\n",
    "plt.show()"
   ]
  },
  {
   "cell_type": "code",
   "execution_count": null,
   "id": "97201eba-faff-4368-92b7-ef6c884e65a3",
   "metadata": {},
   "outputs": [],
   "source": []
  },
  {
   "cell_type": "code",
   "execution_count": null,
   "id": "2987e5e3-7202-4d93-8f03-e378931fda02",
   "metadata": {},
   "outputs": [],
   "source": []
  },
  {
   "cell_type": "code",
   "execution_count": null,
   "id": "f7e02f26-dfc2-4358-916b-6be9f7d605cd",
   "metadata": {},
   "outputs": [],
   "source": []
  },
  {
   "cell_type": "code",
   "execution_count": null,
   "id": "52409ebc-6c77-4e19-95a8-b9e79b220c88",
   "metadata": {},
   "outputs": [],
   "source": []
  },
  {
   "cell_type": "code",
   "execution_count": null,
   "id": "15d93473-af41-4dcc-821c-6309c09295a7",
   "metadata": {},
   "outputs": [],
   "source": []
  },
  {
   "cell_type": "code",
   "execution_count": null,
   "id": "11ec0058-2a05-4993-8730-61f67070fafe",
   "metadata": {},
   "outputs": [],
   "source": []
  },
  {
   "cell_type": "code",
   "execution_count": null,
   "id": "219eff0b-7c02-4815-bb1a-6b747ddc660d",
   "metadata": {},
   "outputs": [],
   "source": []
  },
  {
   "cell_type": "code",
   "execution_count": null,
   "id": "3e599803-3b2a-44d3-8766-7beb58b3ae00",
   "metadata": {},
   "outputs": [],
   "source": []
  },
  {
   "cell_type": "code",
   "execution_count": null,
   "id": "a9fc13e4-3e27-4bbd-a74e-f748e4c569a4",
   "metadata": {},
   "outputs": [],
   "source": []
  },
  {
   "cell_type": "code",
   "execution_count": null,
   "id": "6bd12781-fdbd-409e-ae47-79e2765f2c1d",
   "metadata": {},
   "outputs": [],
   "source": []
  },
  {
   "cell_type": "code",
   "execution_count": null,
   "id": "efa340a9-59d5-4139-af64-542130c92c81",
   "metadata": {},
   "outputs": [],
   "source": []
  }
 ],
 "metadata": {
  "kernelspec": {
   "display_name": "Python 3 (ipykernel)",
   "language": "python",
   "name": "python3"
  },
  "language_info": {
   "codemirror_mode": {
    "name": "ipython",
    "version": 3
   },
   "file_extension": ".py",
   "mimetype": "text/x-python",
   "name": "python",
   "nbconvert_exporter": "python",
   "pygments_lexer": "ipython3",
   "version": "3.13.5"
  }
 },
 "nbformat": 4,
 "nbformat_minor": 5
}
