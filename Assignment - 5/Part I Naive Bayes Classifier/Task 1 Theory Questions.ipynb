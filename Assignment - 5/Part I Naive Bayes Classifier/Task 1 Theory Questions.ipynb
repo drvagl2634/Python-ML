{
 "cells": [
  {
   "cell_type": "markdown",
   "id": "2d3e6ce2-d5d5-4b13-9676-419f24ec6ac8",
   "metadata": {},
   "source": [
    "## Answer in 2–4 sentences: \n",
    "- 1. What is the core assumption of Naive Bayes? \n",
    "- 2. Differentiate between GaussianNB, MultinomialNB, and BernoulliNB. \n",
    "- 3. Why is Naive Bayes considered suitable for high-dimensional data? "
   ]
  },
  {
   "cell_type": "code",
   "execution_count": null,
   "id": "baa6c57a-23e5-49bf-9600-e097b5f32da8",
   "metadata": {},
   "outputs": [],
   "source": []
  },
  {
   "cell_type": "markdown",
   "id": "38088a5d-ce18-4391-806b-4071fbb7c97a",
   "metadata": {},
   "source": [
    "**1. Core Assumption of Naive Bayes:**\n",
    "\n",
    "- Features are independent of each other when given the class label.\n",
    "\n",
    "- Each feature contributes independently to the prediction."
   ]
  },
  {
   "cell_type": "code",
   "execution_count": null,
   "id": "05749ce6-1e4e-40a6-9691-b71c2f882c54",
   "metadata": {},
   "outputs": [],
   "source": []
  },
  {
   "cell_type": "markdown",
   "id": "a6c18f24-887a-46e5-b0ab-cd033cab0aab",
   "metadata": {},
   "source": [
    " **2.Difference Between GaussianNB, MultinomialNB, and BernoulliNB:**\n",
    "\n",
    "- **GaussianNB:** Assumes features follow a normal (Gaussian) distribution (for continuous data).\n",
    "\n",
    "- **MultinomialNB:** Assumes features are counts, like how many times a word appears (for count data).\n",
    "\n",
    "- **BernoulliNB:** Assumes features are binary (0 or 1, yes or no, true or false)."
   ]
  },
  {
   "cell_type": "code",
   "execution_count": null,
   "id": "65a8dbfc-1f6c-46a9-89cf-95e5f9c0b7b9",
   "metadata": {},
   "outputs": [],
   "source": []
  },
  {
   "cell_type": "markdown",
   "id": "0a195804-4a2f-4bd2-8cf0-08441f527bac",
   "metadata": {},
   "source": [
    "**3. Why Naive Bayes is Suitable for High-Dimensional Data:**\n",
    "\n",
    "- The independence assumption reduces complexity, allowing the model to scale well with a large number of features.\n",
    "\n",
    "- It requires less computation compared to other models, making it efficient for high-dimensional datasets."
   ]
  },
  {
   "cell_type": "code",
   "execution_count": null,
   "id": "368df91a-2bc0-4c99-9565-a1cf656d6d02",
   "metadata": {},
   "outputs": [],
   "source": []
  },
  {
   "cell_type": "code",
   "execution_count": null,
   "id": "f86bf2ff-af8e-4f2e-84bb-72be8371d397",
   "metadata": {},
   "outputs": [],
   "source": []
  }
 ],
 "metadata": {
  "kernelspec": {
   "display_name": "Python 3 (ipykernel)",
   "language": "python",
   "name": "python3"
  },
  "language_info": {
   "codemirror_mode": {
    "name": "ipython",
    "version": 3
   },
   "file_extension": ".py",
   "mimetype": "text/x-python",
   "name": "python",
   "nbconvert_exporter": "python",
   "pygments_lexer": "ipython3",
   "version": "3.13.5"
  }
 },
 "nbformat": 4,
 "nbformat_minor": 5
}
