{
 "cells": [
  {
   "cell_type": "markdown",
   "id": "491d3a1a-18db-4eb9-be5e-c231d3bdeb0d",
   "metadata": {},
   "source": [
    "## 1. What are the assumptions of linear regression? \n",
    "\n",
    "- The relationship between features and target should be linear.\n",
    "\n",
    "- Errors (differences between predicted and actual) should have constant spread.\n",
    "\n",
    "- Data points should be independent (not related to each other).\n",
    "\n",
    "- Errors should follow a normal distribution."
   ]
  },
  {
   "cell_type": "markdown",
   "id": "880b4e51-0875-4c53-bdfb-7ea454c43d0c",
   "metadata": {
    "jp-MarkdownHeadingCollapsed": true
   },
   "source": [
    "## 2. When should you use logistic regression instead of linear regression? \n",
    "\n",
    "- Use logistic regression when the target is Yes/No, 0/1, or any category.\n",
    "\n",
    "- Use linear regression only when predicting a number (like price, age, etc.)."
   ]
  },
  {
   "cell_type": "markdown",
   "id": "e1f262b4-48ed-4553-b208-3ae69ae372c9",
   "metadata": {},
   "source": [
    "## 3. What is the interpretation of coefficients in logistic regression?\n",
    "\n",
    "- The coefficient shows how much the odds change when a feature increases.\n",
    "\n",
    "- If you increase a feature by 1, the chance of outcome (like getting 1) goes up or down."
   ]
  },
  {
   "cell_type": "markdown",
   "id": "27117d66-8f08-4668-88ec-c6f90adfaf4e",
   "metadata": {},
   "source": [
    "## 4. What is the difference between sigmoid and softmax functions? \n",
    "\n",
    "- **Sigmoid:** Used for two-class problems (gives one value between 0 and 1).\n",
    "\n",
    "- **Softmax:** Used for multi-class problems (gives a set of probabilities that add to 1)"
   ]
  },
  {
   "cell_type": "markdown",
   "id": "4115389e-7ec8-44ed-93de-a7817b8d2376",
   "metadata": {},
   "source": [
    "## 5. Why is R-squared not suitable for evaluating logistic regression models?\n",
    "\n",
    "- R-squared measures the proportion of variance explained by a linear model and is suited for regression tasks. Logistic regression deals with classification and probabilities, not continuous values so metrics like accuracy, precision,recall,F1-score, and ROC-AUC are more appropriate for evaluating its performance."
   ]
  },
  {
   "cell_type": "code",
   "execution_count": null,
   "id": "8ec43612-6bc2-46fa-8b12-2e7b6e01d682",
   "metadata": {},
   "outputs": [],
   "source": []
  },
  {
   "cell_type": "code",
   "execution_count": null,
   "id": "666c8f0f-1fa3-4098-add9-ce8b81967672",
   "metadata": {},
   "outputs": [],
   "source": []
  }
 ],
 "metadata": {
  "kernelspec": {
   "display_name": "Python 3 (ipykernel)",
   "language": "python",
   "name": "python3"
  },
  "language_info": {
   "codemirror_mode": {
    "name": "ipython",
    "version": 3
   },
   "file_extension": ".py",
   "mimetype": "text/x-python",
   "name": "python",
   "nbconvert_exporter": "python",
   "pygments_lexer": "ipython3",
   "version": "3.13.5"
  }
 },
 "nbformat": 4,
 "nbformat_minor": 5
}
